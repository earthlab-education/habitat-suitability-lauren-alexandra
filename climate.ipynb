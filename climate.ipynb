{
  "cells": [
    {
      "cell_type": "markdown",
      "id": "4d57d093-4872-4994-ba5c-0dc6ff0dec7b",
      "metadata": {},
      "source": [
        "# Habitat suitability under climate change\n",
        "\n",
        "[Our changing climate is changing where key grassland species can live,\n",
        "and grassland management and restoration practices will need to take\n",
        "this into\n",
        "account.](https://www.frontiersin.org/articles/10.3389/fpls.2017.00730/full)\n",
        "\n",
        "In this coding challenge, you will create a habitat suitability model\n",
        "for a species of your choice that lives in the continental United States\n",
        "(CONUS). We have this limitation because the downscaled climate data we\n",
        "suggest, the [MACAv2 dataset](https://www.climatologylab.org/maca.html),\n",
        "is only available in the CONUS – if you find other downscaled climate\n",
        "data at an appropriate resolution you are welcome to choose a different\n",
        "study area. If you don’t have anything in mind, you can take a look at\n",
        "Sorghastrum nutans, a grass native to North America. [In the past 50\n",
        "years, its range has moved\n",
        "northward](https://www.gbif.org/species/2704414).\n",
        "\n",
        "Your suitability assessment will be based on combining multiple data\n",
        "layers related to soil, topography, and climate. You will also need to\n",
        "create a **modular, reproducible, workflow** using functions and loops.\n",
        "To do this effectively, we recommend planning your code out in advance\n",
        "using a technique such as pseudocode outline or a flow diagram. We\n",
        "recommend planning each of the blocks below out into multiple steps. It\n",
        "is unnecessary to write a step for every line of code unles you find\n",
        "that useful. As a rule of thumb, aim for steps that cover the major\n",
        "structures of your code in 2-5 line chunks.\n",
        "\n",
        "## STEP 1: STUDY OVERVIEW\n",
        "\n",
        "Before you begin coding, you will need to design your study.\n",
        "\n",
        "<link rel=\"stylesheet\" type=\"text/css\" href=\"./assets/styles.css\"><div class=\"callout callout-style-default callout-titled callout-respond\"><div class=\"callout-header\"><div class=\"callout-icon-container\"><i class=\"callout-icon\"></i></div><div class=\"callout-title-container flex-fill\">Reflect and Respond</div></div><div class=\"callout-body-container callout-body\"><p>What question do you hope to answer about potential future changes in\n",
        "habitat suitability?</p></div></div>"
      ]
    },
    {
      "cell_type": "markdown",
      "id": "3972630a-b9a0-4447-8e87-e3308195364d",
      "metadata": {},
      "source": [
        "How will potential climate changes in Northern and Southern Californian habitats affect suitability for the endemic blue oak?"
      ]
    },
    {
      "cell_type": "markdown",
      "id": "0460af76-926f-43a1-b671-47f75613a5c1",
      "metadata": {},
      "source": [
        "### Species\n",
        "\n",
        "<link rel=\"stylesheet\" type=\"text/css\" href=\"./assets/styles.css\"><div class=\"callout callout-style-default callout-titled callout-task\"><div class=\"callout-header\"><div class=\"callout-icon-container\"><i class=\"callout-icon\"></i></div><div class=\"callout-title-container flex-fill\">Try It</div></div><div class=\"callout-body-container callout-body\"><p>Select the species you want to study, and research it’s habitat\n",
        "parameters in scientific studies or other reliable sources. You will\n",
        "want to look for reviews or overviews of the data, since an individual\n",
        "study may not have the breadth needed for this purpose. In the US, the\n",
        "National Resource Conservation Service can have helpful fact sheets\n",
        "about different species. University Extension programs are also good\n",
        "resources for summaries.</p>\n",
        "<p>Based on your research, select soil, topographic, and climate\n",
        "variables that you can use to determine if a particular location and\n",
        "time period is a suitable habitat for your species.</p></div></div>\n",
        "\n",
        "<link rel=\"stylesheet\" type=\"text/css\" href=\"./assets/styles.css\"><div class=\"callout callout-style-default callout-titled callout-respond\"><div class=\"callout-header\"><div class=\"callout-icon-container\"><i class=\"callout-icon\"></i></div><div class=\"callout-title-container flex-fill\">Reflect and Respond</div></div><div class=\"callout-body-container callout-body\"><p>Write a description of your species. What habitat is it found in?\n",
        "What is its geographic range? What, if any, are conservation threats to\n",
        "the species? What data will shed the most light on habitat suitability\n",
        "for this species?</p></div></div>"
      ]
    },
    {
      "cell_type": "markdown",
      "id": "5c0a1bb7-b500-4ffa-9530-d6ac4e7f3989",
      "metadata": {},
      "source": [
        "The blue oak (*Quercus douglasii*) is a deciduous drought-tolerant tree endemic to California. \n",
        "Blue oaks can be identified by their blue-green foliage, slightly to deeply lobed leaves, textured and pale gray bark, typical height between 20-60 ft., and natural settings of dry, rocky, and somewhat acidic to neutral soils. This species can be found among plant communities such as chaparral, foothill woodland, and oak woodland at elevations of 500-2000 ft. in the north and up to 5000 ft. in the south. The blue oak is dispersed throughout the state including in the central Sierra Nevada Eldorado National Forest and the central Coast and Transverse Ranges in Los Padres National Forest. Conservation threats facing the oak include escalation of pathogens and diminished regeneration. "
      ]
    },
    {
      "cell_type": "markdown",
      "id": "7b733766-e23f-43a2-a7fb-09ce0ddcf059",
      "metadata": {},
      "source": [
        "### Sites\n",
        "\n",
        "<link rel=\"stylesheet\" type=\"text/css\" href=\"./assets/styles.css\"><div class=\"callout callout-style-default callout-titled callout-task\"><div class=\"callout-header\"><div class=\"callout-icon-container\"><i class=\"callout-icon\"></i></div><div class=\"callout-title-container flex-fill\">Try It</div></div><div class=\"callout-body-container callout-body\"><p>Select at least two site to study, such as two of the U.S. National\n",
        "Grasslands. You can download the <a\n",
        "href=\"https://data.fs.usda.gov/geodata/edw/edw_resources/shp/S_USA.NationalGrassland.zip\">USFS\n",
        "National Grassland Units</a> and select your study sites. Generate a\n",
        "site map for each location.</p>\n",
        "<p>When selecting your sites, you might want to look for places that are\n",
        "marginally habitable for this species, since those locations will be\n",
        "most likely to show changes due to climate.</p></div></div>\n",
        "\n",
        "<link rel=\"stylesheet\" type=\"text/css\" href=\"./assets/styles.css\"><div class=\"callout callout-style-default callout-titled callout-respond\"><div class=\"callout-header\"><div class=\"callout-icon-container\"><i class=\"callout-icon\"></i></div><div class=\"callout-title-container flex-fill\">Reflect and Respond</div></div><div class=\"callout-body-container callout-body\"><p>Write a site description for each of your sites, or for all of your\n",
        "sites as a group if you have chosen a large number of linked sites. What\n",
        "differences or trends do you expect to see among your sites?</p></div></div>"
      ]
    },
    {
      "cell_type": "markdown",
      "id": "d4d9ef03-229d-4690-bf1f-2fe93ec4b5f9",
      "metadata": {},
      "source": [
        "Los Padres National Forest covers around 1.75 million acres in two distinct land divisions among the central California and Transverse Ranges in Southern California. In the North, Eldorado National Forest is embedded in the central Sierra Nevada comprising nearly 800,000 acres. Differences in hydrologic regimes, terrain, and temperature are observed across the sites."
      ]
    },
    {
      "cell_type": "markdown",
      "id": "e05e6be6-03af-4dea-9fd9-17d2e15417f8",
      "metadata": {},
      "source": [
        "### Time periods\n",
        "\n",
        "In general when studying climate, we are interested in **climate\n",
        "normals**, which are typically calculated from 30 years of data so that\n",
        "they reflect the climate as a whole and not a single year which may be\n",
        "anomalous. So if you are interested in the climate around 2050, download\n",
        "at least data from 2035-2065.\n",
        "\n",
        "<link rel=\"stylesheet\" type=\"text/css\" href=\"./assets/styles.css\"><div class=\"callout callout-style-default callout-titled callout-respond\"><div class=\"callout-header\"><div class=\"callout-icon-container\"><i class=\"callout-icon\"></i></div><div class=\"callout-title-container flex-fill\">Reflect and Respond</div></div><div class=\"callout-body-container callout-body\"><p>Select at least two 30-year time periods to compare, such as\n",
        "historical and 30 years into the future. These time periods should help\n",
        "you to answer your scientific question.</p></div></div>"
      ]
    },
    {
      "cell_type": "markdown",
      "id": "99cfdf6c-5bbc-46ae-a0d1-98888799e552",
      "metadata": {},
      "source": [
        "Time periods: \n",
        "- Mid 21st Century (2035-2065)\n",
        "- Late 21st century (2065-2095)"
      ]
    },
    {
      "cell_type": "markdown",
      "id": "cf584628-045f-442b-ab2c-73722c363668",
      "metadata": {},
      "source": [
        "### Climate models\n",
        "\n",
        "There is a great deal of uncertainty among the many global climate\n",
        "models available. One way to work with the variety is by using an\n",
        "**ensemble** of models to try to capture that uncertainty. This also\n",
        "gives you an idea of the range of possible values you might expect! To\n",
        "be most efficient with your time and computing resources, you can use a\n",
        "subset of all the climate models available to you. However, for each\n",
        "scenario, you should attempt to include models that are:\n",
        "\n",
        "-   Warm and wet\n",
        "-   Warm and dry\n",
        "-   Cold and wet\n",
        "-   Cold and dry\n",
        "\n",
        "for each of your sites.\n",
        "\n",
        "To figure out which climate models to use, you will need to access\n",
        "summary data near your sites for each of the climate models. You can do\n",
        "this using the [Climate Futures Toolbox Future Climate Scatter\n",
        "tool](https://climatetoolbox.org/tool/Future-Climate-Scatter). There is\n",
        "no need to write code to select your climate models, since this choice\n",
        "is something that requires your judgement and only needs to be done\n",
        "once.\n",
        "\n",
        "If your question requires it, you can also choose to include multiple\n",
        "climate variables, such as temperature and precipitation, and/or\n",
        "multiple emissions scenarios, such as RCP4.5 and RCP8.5.\n",
        "\n",
        "<link rel=\"stylesheet\" type=\"text/css\" href=\"./assets/styles.css\"><div class=\"callout callout-style-default callout-titled callout-task\"><div class=\"callout-header\"><div class=\"callout-icon-container\"><i class=\"callout-icon\"></i></div><div class=\"callout-title-container flex-fill\">Try It</div></div><div class=\"callout-body-container callout-body\"><p>Choose at least 4 climate models that cover the range of possible\n",
        "future climate variability at your sites. How did you choose?</p></div></div>"
      ]
    },
    {
      "cell_type": "markdown",
      "id": "9c200f9f-d61e-4c14-a784-ab734bf6ec95",
      "metadata": {},
      "source": [
        "LIST THE CLIMATE MODELS YOU SELECTED HERE AND CITE THE CLIMATE TOOLBOX\n",
        "\n",
        "Projected climate scenarios (medium and high emissions) for a monthly average of daily maximum near-surface air temperature obtained from [MACAV2]. \n",
        "\n",
        "Models:\n",
        "- warm and wet (MIROC-ESM-CHEM)\n",
        "- warm and dry climate model (HadGEM2-ES)\n",
        "- cool and wet climate model (CNRM-CM5)\n",
        "- cool and dry (HadGEM2-CC)"
      ]
    },
    {
      "cell_type": "markdown",
      "id": "b2de1c19-5b83-45dd-a5ab-66b0bc438978",
      "metadata": {},
      "source": [
        "## STEP 2: DATA ACCESS\n",
        "\n",
        "### Soil data\n",
        "\n",
        "The [POLARIS dataset](http://hydrology.cee.duke.edu/POLARIS/) is a\n",
        "convenient way to uniformly access a variety of soil parameters such as\n",
        "pH and percent clay in the US. It is available for a range of depths (in\n",
        "cm) and split into 1x1 degree tiles.\n",
        "\n",
        "<link rel=\"stylesheet\" type=\"text/css\" href=\"./assets/styles.css\"><div class=\"callout callout-style-default callout-titled callout-task\"><div class=\"callout-header\"><div class=\"callout-icon-container\"><i class=\"callout-icon\"></i></div><div class=\"callout-title-container flex-fill\">Try It</div></div><div class=\"callout-body-container callout-body\"><p>Write a <strong>function with a numpy-style docstring</strong> that\n",
        "will download POLARIS data for a particular location, soil parameter,\n",
        "and soil depth. Your function should account for the situation where\n",
        "your site boundary crosses over multiple tiles, and merge the necessary\n",
        "data together.</p>\n",
        "<p>Then, use loops to download and organize the rasters you will need to\n",
        "complete this section. Include soil parameters that will help you to\n",
        "answer your scientific question. We recommend using a soil depth that\n",
        "best corresponds with the rooting depth of your species.</p></div></div>"
      ]
    },
    {
      "cell_type": "code",
      "execution_count": 1,
      "id": "a3800a22",
      "metadata": {
        "highlight": true
      },
      "outputs": [],
      "source": [
        "# Download soil data"
      ]
    },
    {
      "cell_type": "markdown",
      "id": "4aca6fd5-5219-4e04-8ac8-c5a6ecba9d9a",
      "metadata": {},
      "source": [
        "### Topographic data\n",
        "\n",
        "One way to access reliable elevation data is from the [SRTM\n",
        "dataset](https://www.earthdata.nasa.gov/data/instruments/srtm),\n",
        "available through the [earthaccess\n",
        "API](https://earthaccess.readthedocs.io/en/latest/quick-start/).\n",
        "\n",
        "<link rel=\"stylesheet\" type=\"text/css\" href=\"./assets/styles.css\"><div class=\"callout callout-style-default callout-titled callout-task\"><div class=\"callout-header\"><div class=\"callout-icon-container\"><i class=\"callout-icon\"></i></div><div class=\"callout-title-container flex-fill\">Try It</div></div><div class=\"callout-body-container callout-body\"><p>Write a <strong>function with a numpy-style docstring</strong> that\n",
        "will download SRTM elevation data for a particular location and\n",
        "calculate any additional topographic variables you need such as slope or\n",
        "aspect.</p>\n",
        "<p>Then, use loops to download and organize the rasters you will need to\n",
        "complete this section. Include topographic parameters that will help you\n",
        "to answer your scientific question.</p></div></div>\n",
        "\n",
        "> **Warning**\n",
        ">\n",
        "> Be careful when computing the slope from elevation that the units of\n",
        "> elevation match the projection units (e.g. meters and meters, not\n",
        "> meters and degrees). You will need to project the SRTM data to\n",
        "> complete this calculation correctly."
      ]
    },
    {
      "cell_type": "code",
      "execution_count": 2,
      "id": "ff99ab9d",
      "metadata": {
        "highlight": true
      },
      "outputs": [],
      "source": [
        "# Download soil data"
      ]
    },
    {
      "cell_type": "markdown",
      "id": "f006b1d0-e899-4477-b60b-7489a5fa6560",
      "metadata": {},
      "source": [
        "### Climate model data\n",
        "\n",
        "You can use MACAv2 data for historical and future climate data. Be sure\n",
        "to compare at least two 30-year time periods (e.g. historical vs. 10\n",
        "years in the future) for at least four of the CMIP models. Overall, you\n",
        "should be downloading at least 8 climate rasters for each of your sites,\n",
        "for a total of 16. **You will *need* to use loops and/or functions to do\n",
        "this cleanly!**.\n",
        "\n",
        "<link rel=\"stylesheet\" type=\"text/css\" href=\"./assets/styles.css\"><div class=\"callout callout-style-default callout-titled callout-task\"><div class=\"callout-header\"><div class=\"callout-icon-container\"><i class=\"callout-icon\"></i></div><div class=\"callout-title-container flex-fill\">Try It</div></div><div class=\"callout-body-container callout-body\"><p>Write a <strong>function with a numpy-style docstring</strong> that\n",
        "will download MACAv2 data for a particular climate model, emissions\n",
        "scenario, spatial domain, and time frame. Then, use loops to download\n",
        "and organize the 16+ rasters you will need to complete this section. The\n",
        "<a\n",
        "href=\"http://thredds.northwestknowledge.net:8080/thredds/reacch_climate_CMIP5_macav2_catalog2.html\">MACAv2\n",
        "dataset is accessible from their Thredds server</a>. Include an\n",
        "arrangement of sites, models, emissions scenarios, and time periods that\n",
        "will help you to answer your scientific question.</p></div></div>"
      ]
    },
    {
      "cell_type": "code",
      "execution_count": 4,
      "id": "98f0ac7b",
      "metadata": {
        "highlight": true
      },
      "outputs": [],
      "source": [
        "# Download climate data"
      ]
    },
    {
      "cell_type": "markdown",
      "id": "4ee33c63-764e-4065-93c4-ac7e8d383224",
      "metadata": {},
      "source": [
        "<link rel=\"stylesheet\" type=\"text/css\" href=\"./assets/styles.css\"><div class=\"callout callout-style-default callout-titled callout-respond\"><div class=\"callout-header\"><div class=\"callout-icon-container\"><i class=\"callout-icon\"></i></div><div class=\"callout-title-container flex-fill\">Reflect and Respond</div></div><div class=\"callout-body-container callout-body\"><p>Make sure to include a description of the climate data and how you\n",
        "selected your models. Include a citation of the MACAv2 data</p></div></div>\n",
        "\n",
        "YOUR CLIMATE DATA DESCRIPTION AND CITATIONS HERE\n",
        "\n",
        "## STEP 3: HARMONIZE DATA\n",
        "\n",
        "<link rel=\"stylesheet\" type=\"text/css\" href=\"./assets/styles.css\"><div class=\"callout callout-style-default callout-titled callout-task\"><div class=\"callout-header\"><div class=\"callout-icon-container\"><i class=\"callout-icon\"></i></div><div class=\"callout-title-container flex-fill\">Try It</div></div><div class=\"callout-body-container callout-body\"><p>Make sure that the grids for all your data match each other. Check\n",
        "out the <a\n",
        "href=\"https://corteva.github.io/rioxarray/stable/examples/reproject_match.html#Reproject-Match\"><code>ds.rio.reproject_match()</code>\n",
        "method</a> from <code>rioxarray</code>. Make sure to use the data source\n",
        "that has the highest resolution as a template!</p></div></div>\n",
        "\n",
        "> **Warning**\n",
        ">\n",
        "> If you are reprojecting data as you need to here, the order of\n",
        "> operations is important! Recall that reprojecting will typically tilt\n",
        "> your data, leaving narrow sections of the data at the edge blank.\n",
        "> However, to reproject efficiently it is best for the raster to be as\n",
        "> small as possible before performing the operation. We recommend the\n",
        "> following process:\n",
        ">\n",
        ">     1. Crop the data, leaving a buffer around the final boundary\n",
        ">     2. Reproject to match the template grid (this will also crop any leftovers off the image)"
      ]
    },
    {
      "cell_type": "code",
      "execution_count": 5,
      "id": "900431fc",
      "metadata": {
        "highlight": true
      },
      "outputs": [],
      "source": [
        "# Download soil data"
      ]
    },
    {
      "cell_type": "markdown",
      "id": "b46dd20b-8772-46d6-9981-2be1fb91ef1b",
      "metadata": {},
      "source": [
        "## STEP 4: DEVELOP A FUZZY LOGIC MODEL\n",
        "\n",
        "A fuzzy logic model is one that is built on expert knowledge rather than\n",
        "training data. You may wish to use the\n",
        "[`scikit-fuzzy`](https://pythonhosted.org/scikit-fuzzy/) library, which\n",
        "includes many utilities for building this sort of model. In particular,\n",
        "it contains a number of **membership functions** which can convert your\n",
        "data into values from 0 to 1 using information such as, for example, the\n",
        "maximum, minimum, and optimal values for soil pH.\n",
        "\n",
        "<link rel=\"stylesheet\" type=\"text/css\" href=\"./assets/styles.css\"><div class=\"callout callout-style-default callout-titled callout-task\"><div class=\"callout-header\"><div class=\"callout-icon-container\"><i class=\"callout-icon\"></i></div><div class=\"callout-title-container flex-fill\">Try It</div></div><div class=\"callout-body-container callout-body\"><p>To train a fuzzy logic habitat suitability model:</p>\n",
        "<pre><code>1. Research S. nutans, and find out what optimal values are for each variable you are using (e.g. soil pH, slope, and current climatological annual precipitation). \n",
        "2. For each **digital number** in each raster, assign a **continuous** value from 0 to 1 for how close that grid square is to the optimum range (1=optimal, 0=incompatible). \n",
        "3. Combine your layers by multiplying them together. This will give you a single suitability number for each square.\n",
        "4. Optionally, you may apply a suitability threshold to make the most suitable areas pop on your map.</code></pre></div></div>\n",
        "\n",
        "> **Tip**\n",
        ">\n",
        "> If you use mathematical operators on a raster in Python, it will\n",
        "> automatically perform the operation for every number in the raster.\n",
        "> This type of operation is known as a **vectorized** function. **DO NOT\n",
        "> DO THIS WITH A LOOP!**. A vectorized function that operates on the\n",
        "> whole array at once will be much easier and faster."
      ]
    },
    {
      "cell_type": "code",
      "execution_count": 6,
      "id": "cacfdcef",
      "metadata": {
        "highlight": true
      },
      "outputs": [],
      "source": [
        "# Create fuzzy logic suitability model"
      ]
    },
    {
      "cell_type": "markdown",
      "id": "32ef3341-2f6d-4479-ae0d-b6e3c704a624",
      "metadata": {},
      "source": [
        "## STEP 5: PRESENT YOUR RESULTS\n",
        "\n",
        "<link rel=\"stylesheet\" type=\"text/css\" href=\"./assets/styles.css\"><div class=\"callout callout-style-default callout-titled callout-task\"><div class=\"callout-header\"><div class=\"callout-icon-container\"><i class=\"callout-icon\"></i></div><div class=\"callout-title-container flex-fill\">Try It</div></div><div class=\"callout-body-container callout-body\"><p>Generate some plots that show your key findings. Don’t forget to\n",
        "interpret your plots!</p></div></div>"
      ]
    },
    {
      "cell_type": "code",
      "execution_count": 7,
      "id": "0bafdd1b",
      "metadata": {
        "highlight": true
      },
      "outputs": [],
      "source": [
        "# Create plots"
      ]
    },
    {
      "cell_type": "markdown",
      "id": "11ec51a0-63dd-443b-80ae-c9f4c921f7af",
      "metadata": {},
      "source": [
        "YOUR PLOT INTERPRETATION HERE"
      ]
    }
  ],
  "metadata": {
    "kernelspec": {
      "display_name": "Python 3 (ipykernel)",
      "language": "python",
      "name": "python3",
      "path": "/Users/elsa/miniconda3/envs/learning-portal/share/jupyter/kernels/python3"
    },
    "language_info": {
      "codemirror_mode": {
        "name": "ipython",
        "version": 3
      },
      "file_extension": ".py",
      "mimetype": "text/x-python",
      "name": "python",
      "nbconvert_exporter": "python",
      "pygments_lexer": "ipython3",
      "version": "3.11.10"
    }
  },
  "nbformat": 4,
  "nbformat_minor": 5
}
